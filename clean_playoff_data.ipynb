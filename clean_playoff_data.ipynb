{
 "cells": [
  {
   "cell_type": "markdown",
   "metadata": {},
   "source": [
    "## Processing, parsing and cleaning playoff data"
   ]
  },
  {
   "cell_type": "code",
   "execution_count": 10,
   "metadata": {},
   "outputs": [],
   "source": [
    "from bs4 import BeautifulSoup\n",
    "import pandas as pd"
   ]
  },
  {
   "cell_type": "code",
   "execution_count": 11,
   "metadata": {},
   "outputs": [],
   "source": [
    "seasons = list(range(1996, 2023))"
   ]
  },
  {
   "cell_type": "code",
   "execution_count": 12,
   "metadata": {},
   "outputs": [],
   "source": [
    "# keep_unique_hrefs keeps only the first occurence of each link\n",
    "def keep_unique_hrefs(hrefs):\n",
    "    unique_href = []\n",
    "    seen_hrefs = set()\n",
    "\n",
    "    for href in hrefs:\n",
    "        if href not in seen_hrefs:\n",
    "            unique_href.append(href)\n",
    "            seen_hrefs.add(href)\n",
    "    \n",
    "    return unique_href"
   ]
  },
  {
   "cell_type": "code",
   "execution_count": 13,
   "metadata": {},
   "outputs": [],
   "source": [
    "# assign_score(team) assigns a playoff score to each team that made the playoffs based on where they got eliminated\n",
    "# or if they won the championship\n",
    "\n",
    "def assign_score(teams):\n",
    "    for num in range(len(teams)):\n",
    "        # Team that won the championship\n",
    "        if num == 0:\n",
    "            teams[num] = [teams[num], 10]\n",
    "        # Team that lost in the finals\n",
    "        elif num == 1:\n",
    "            teams[num] = [teams[num], 7]\n",
    "        # Teamsthat lost in the conference finals\n",
    "        elif num >= 2 and num <= 3:\n",
    "            teams[num] = [teams[num], 4]\n",
    "        # Teams that lost in the conference semifinals\n",
    "        elif num >= 4 and num <= 7:\n",
    "            teams[num] = [teams[num], 2]\n",
    "        # Teams that lost in the first round\n",
    "        else:\n",
    "            teams[num] = [teams[num], 1]"
   ]
  },
  {
   "cell_type": "code",
   "execution_count": 14,
   "metadata": {},
   "outputs": [],
   "source": [
    "all_dfs = []\n",
    "\n",
    "# getting and assigning a playoff score (to indicate where they got eliminated/won the championship/didn't make the playoffs) \n",
    "# to each team \n",
    "\n",
    "for season in seasons:\n",
    "    file = \"PLAYOFFS/{}_playoffs.html\".format(season)\n",
    "\n",
    "    with open(file) as f:\n",
    "        content = f.read()\n",
    "\n",
    "    soup = BeautifulSoup(content, \"html.parser\")\n",
    "\n",
    "    # get all the <a>\n",
    "    a_tags = soup.find_all(\"a\")\n",
    "\n",
    "    # get all the team links in those a_tags\n",
    "    hrefs = [a[\"href\"] for a in a_tags]\n",
    "\n",
    "    # keep only the team links in the format e.g. \"/teams/MIL/2021.html\"\n",
    "    hrefs = [href for href in hrefs if href.startswith(\"/teams/\") and href.endswith(\".html\")]\n",
    "\n",
    "    # unique is a list containing only the first instance of each team linke\n",
    "    unique = keep_unique_hrefs(hrefs)\n",
    "\n",
    "    # teams is a list of just the team names from unique\n",
    "    teams = [href.split(\"/\")[2] for href in unique]\n",
    "\n",
    "    # assigns a score to each team based on where they finished in the playoffs\n",
    "    assign_score(teams)\n",
    "\n",
    "    df = pd.DataFrame(teams)\n",
    "\n",
    "    # renaming the columns\n",
    "    df.columns = [\"Team\", \"Score\"]\n",
    "\n",
    "    # keeping track of the season\n",
    "    df[\"Year\"] = season\n",
    "\n",
    "    # adding the dataframe to a list of all the dataframes so far\n",
    "    all_dfs.append(df)\n",
    "\n",
    "# concatenating all the dataframes so far\n",
    "playoff_score = pd.concat(all_dfs)\n",
    "    "
   ]
  },
  {
   "cell_type": "markdown",
   "metadata": {},
   "source": [
    "**Replacing Historical Team Names with the Current Ones**"
   ]
  },
  {
   "cell_type": "code",
   "execution_count": 15,
   "metadata": {},
   "outputs": [],
   "source": [
    "replace_dict = {\"NJN\": \"BRK\", \"CHA\": \"CHO\", \"CHH\": \"CHO\", \"VAN\": \"MEM\", \"NOH\": \"NOP\", \"NOK\": \"NOP\", \"SEA\": \"OKC\", \"WSB\": \"WAS\"}\n",
    "playoff_score[\"Team\"] = playoff_score[\"Team\"].replace(replace_dict)"
   ]
  },
  {
   "cell_type": "code",
   "execution_count": 16,
   "metadata": {},
   "outputs": [
    {
     "data": {
      "text/html": [
       "<div>\n",
       "<style scoped>\n",
       "    .dataframe tbody tr th:only-of-type {\n",
       "        vertical-align: middle;\n",
       "    }\n",
       "\n",
       "    .dataframe tbody tr th {\n",
       "        vertical-align: top;\n",
       "    }\n",
       "\n",
       "    .dataframe thead th {\n",
       "        text-align: right;\n",
       "    }\n",
       "</style>\n",
       "<table border=\"1\" class=\"dataframe\">\n",
       "  <thead>\n",
       "    <tr style=\"text-align: right;\">\n",
       "      <th></th>\n",
       "      <th>Team</th>\n",
       "      <th>Score</th>\n",
       "      <th>Year</th>\n",
       "    </tr>\n",
       "  </thead>\n",
       "  <tbody>\n",
       "    <tr>\n",
       "      <th>0</th>\n",
       "      <td>CHI</td>\n",
       "      <td>10</td>\n",
       "      <td>1996</td>\n",
       "    </tr>\n",
       "    <tr>\n",
       "      <th>1</th>\n",
       "      <td>OKC</td>\n",
       "      <td>7</td>\n",
       "      <td>1996</td>\n",
       "    </tr>\n",
       "    <tr>\n",
       "      <th>2</th>\n",
       "      <td>ORL</td>\n",
       "      <td>4</td>\n",
       "      <td>1996</td>\n",
       "    </tr>\n",
       "    <tr>\n",
       "      <th>3</th>\n",
       "      <td>UTA</td>\n",
       "      <td>4</td>\n",
       "      <td>1996</td>\n",
       "    </tr>\n",
       "    <tr>\n",
       "      <th>4</th>\n",
       "      <td>NYK</td>\n",
       "      <td>2</td>\n",
       "      <td>1996</td>\n",
       "    </tr>\n",
       "    <tr>\n",
       "      <th>...</th>\n",
       "      <td>...</td>\n",
       "      <td>...</td>\n",
       "      <td>...</td>\n",
       "    </tr>\n",
       "    <tr>\n",
       "      <th>11</th>\n",
       "      <td>TOR</td>\n",
       "      <td>1</td>\n",
       "      <td>2022</td>\n",
       "    </tr>\n",
       "    <tr>\n",
       "      <th>12</th>\n",
       "      <td>UTA</td>\n",
       "      <td>1</td>\n",
       "      <td>2022</td>\n",
       "    </tr>\n",
       "    <tr>\n",
       "      <th>13</th>\n",
       "      <td>DEN</td>\n",
       "      <td>1</td>\n",
       "      <td>2022</td>\n",
       "    </tr>\n",
       "    <tr>\n",
       "      <th>14</th>\n",
       "      <td>MIN</td>\n",
       "      <td>1</td>\n",
       "      <td>2022</td>\n",
       "    </tr>\n",
       "    <tr>\n",
       "      <th>15</th>\n",
       "      <td>NOP</td>\n",
       "      <td>1</td>\n",
       "      <td>2022</td>\n",
       "    </tr>\n",
       "  </tbody>\n",
       "</table>\n",
       "<p>432 rows × 3 columns</p>\n",
       "</div>"
      ],
      "text/plain": [
       "   Team  Score  Year\n",
       "0   CHI     10  1996\n",
       "1   OKC      7  1996\n",
       "2   ORL      4  1996\n",
       "3   UTA      4  1996\n",
       "4   NYK      2  1996\n",
       "..  ...    ...   ...\n",
       "11  TOR      1  2022\n",
       "12  UTA      1  2022\n",
       "13  DEN      1  2022\n",
       "14  MIN      1  2022\n",
       "15  NOP      1  2022\n",
       "\n",
       "[432 rows x 3 columns]"
      ]
     },
     "execution_count": 16,
     "metadata": {},
     "output_type": "execute_result"
    }
   ],
   "source": [
    "playoff_score"
   ]
  },
  {
   "cell_type": "code",
   "execution_count": 17,
   "metadata": {},
   "outputs": [],
   "source": [
    "playoff_score.to_csv(\"CSV/playoff_score.csv\")"
   ]
  }
 ],
 "metadata": {
  "kernelspec": {
   "display_name": "Python 3.11.3 64-bit",
   "language": "python",
   "name": "python3"
  },
  "language_info": {
   "codemirror_mode": {
    "name": "ipython",
    "version": 3
   },
   "file_extension": ".py",
   "mimetype": "text/x-python",
   "name": "python",
   "nbconvert_exporter": "python",
   "pygments_lexer": "ipython3",
   "version": "3.11.3"
  },
  "orig_nbformat": 4,
  "vscode": {
   "interpreter": {
    "hash": "aee8b7b246df8f9039afb4144a1f6fd8d2ca17a180786b69acc140d282b71a49"
   }
  }
 },
 "nbformat": 4,
 "nbformat_minor": 2
}
