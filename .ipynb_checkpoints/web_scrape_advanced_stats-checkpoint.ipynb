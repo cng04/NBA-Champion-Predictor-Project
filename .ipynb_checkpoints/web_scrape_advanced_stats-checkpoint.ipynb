{
 "cells": [
  {
   "cell_type": "markdown",
   "metadata": {},
   "source": [
    "# We will Web Scrape every Team's Advanced Stats"
   ]
  },
  {
   "cell_type": "code",
   "execution_count": 5,
   "metadata": {},
   "outputs": [],
   "source": [
    "from selenium import webdriver\n",
    "import time"
   ]
  },
  {
   "cell_type": "code",
   "execution_count": 6,
   "metadata": {},
   "outputs": [],
   "source": [
    "seasons = list(range(1996, 2023))"
   ]
  },
  {
   "cell_type": "code",
   "execution_count": 7,
   "metadata": {},
   "outputs": [
    {
     "name": "stderr",
     "output_type": "stream",
     "text": [
      "/var/folders/x3/2znzyvg544q8fg1wz_2m7wc80000gn/T/ipykernel_10735/368356819.py:2: DeprecationWarning: executable_path has been deprecated, please pass in a Service object\n",
      "  driver = webdriver.Chrome(executable_path=\"/Users/caleb/Desktop/github/NBA/chromedriver_mac64\")\n"
     ]
    }
   ],
   "source": [
    "# instantiating (start) the webdriver\n",
    "driver = webdriver.Chrome(executable_path=\"/Users/caleb/Desktop/github/NBA/chromedriver_mac64\")"
   ]
  },
  {
   "cell_type": "code",
   "execution_count": 8,
   "metadata": {},
   "outputs": [],
   "source": [
    "from selenium.webdriver.common.by import By\n",
    "\n",
    "# Loop to webscrape the advanced stats table\n",
    "url = \"https://www.basketball-reference.com/leagues/NBA_{}.html\"\n",
    "\n",
    "for season in seasons:\n",
    "    time.sleep(2)\n",
    "    \n",
    "    playoff_url = url.format(season)\n",
    "\n",
    "    driver.get(playoff_url)\n",
    "\n",
    "    # finds the html element with id = \"div_app_playoffs\"\n",
    "    adv_stats_table = driver.find_element(By.ID, \"div_advanced-team\")\n",
    "\n",
    "    # grabs the html\n",
    "    adv_stats = adv_stats_table.get_attribute(\"innerHTML\")\n",
    "\n",
    "    # writes the table html to a file inside the PLAYOFFS folder\n",
    "    with open(\"ADVANCED/{}_adv_stats.html\".format(season), \"w+\") as f:\n",
    "        f.write(adv_stats)\n",
    "\n",
    "driver.quit()\n",
    "        "
   ]
  }
 ],
 "metadata": {
  "kernelspec": {
   "display_name": "Python 3.11",
   "language": "python",
   "name": "python3.11"
  },
  "language_info": {
   "codemirror_mode": {
    "name": "ipython",
    "version": 3
   },
   "file_extension": ".py",
   "mimetype": "text/x-python",
   "name": "python",
   "nbconvert_exporter": "python",
   "pygments_lexer": "ipython3",
   "version": "3.11.3"
  },
  "vscode": {
   "interpreter": {
    "hash": "aee8b7b246df8f9039afb4144a1f6fd8d2ca17a180786b69acc140d282b71a49"
   }
  }
 },
 "nbformat": 4,
 "nbformat_minor": 4
}
