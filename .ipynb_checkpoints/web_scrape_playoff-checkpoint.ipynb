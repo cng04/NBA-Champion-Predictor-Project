{
 "cells": [
  {
   "cell_type": "markdown",
   "metadata": {},
   "source": [
    "# In this file, We Will Web Scrape each Team's Playoff Data from each Season (1996 - 2022) to calculate a Playoff Score"
   ]
  },
  {
   "cell_type": "markdown",
   "metadata": {},
   "source": [
    "# Web Scraping Playoff Data"
   ]
  },
  {
   "cell_type": "code",
   "execution_count": null,
   "metadata": {},
   "outputs": [],
   "source": [
    "from selenium import webdriver\n",
    "import time"
   ]
  },
  {
   "cell_type": "code",
   "execution_count": null,
   "metadata": {},
   "outputs": [],
   "source": [
    "seasons = list(range(1996, 2023))"
   ]
  },
  {
   "cell_type": "code",
   "execution_count": null,
   "metadata": {},
   "outputs": [],
   "source": [
    "# instantiating (start) the webdriver\n",
    "driver = webdriver.Chrome(executable_path=\"/Users/caleb/Desktop/github/NBA/chromedriver_mac64\")"
   ]
  },
  {
   "cell_type": "code",
   "execution_count": null,
   "metadata": {},
   "outputs": [],
   "source": [
    "from selenium.webdriver.common.by import By\n",
    "\n",
    "# Loop to webscrape the playoff outcome table that shows where each playoff team got eliminated\n",
    "url = \"https://www.basketball-reference.com/leagues/NBA_{}.html\"\n",
    "\n",
    "for season in seasons:\n",
    "    time.sleep(3)\n",
    "    \n",
    "    playoff_url = url.format(season)\n",
    "\n",
    "    driver.get(playoff_url)\n",
    "\n",
    "    # finds the html element with id = \"div_app_playoffs\"\n",
    "    playoff_table_element = driver.find_element(By.ID, \"div_all_playoffs\")\n",
    "\n",
    "    # grabs the html\n",
    "    playoff_table = playoff_table_element.get_attribute(\"innerHTML\")\n",
    "\n",
    "    # writes the table html to a file inside the PLAYOFFS folder\n",
    "    with open(\"PLAYOFFS/{}_playoffs.html\".format(season), \"w+\") as f:\n",
    "        f.write(playoff_table)\n",
    "        "
   ]
  },
  {
   "cell_type": "code",
   "execution_count": null,
   "metadata": {},
   "outputs": [],
   "source": []
  }
 ],
 "metadata": {
  "kernelspec": {
   "display_name": "Python 3.11",
   "language": "python",
   "name": "python3.11"
  },
  "language_info": {
   "codemirror_mode": {
    "name": "ipython",
    "version": 3
   },
   "file_extension": ".py",
   "mimetype": "text/x-python",
   "name": "python",
   "nbconvert_exporter": "python",
   "pygments_lexer": "ipython3",
   "version": "3.11.3"
  },
  "vscode": {
   "interpreter": {
    "hash": "aee8b7b246df8f9039afb4144a1f6fd8d2ca17a180786b69acc140d282b71a49"
   }
  }
 },
 "nbformat": 4,
 "nbformat_minor": 4
}
