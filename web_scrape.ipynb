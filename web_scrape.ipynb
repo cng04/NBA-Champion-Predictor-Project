{
 "cells": [
  {
   "cell_type": "code",
   "execution_count": 11,
   "metadata": {},
   "outputs": [],
   "source": [
    "import os\n",
    "import time\n",
    "from bs4 import BeautifulSoup\n",
    "from selenium import webdriver"
   ]
  },
  {
   "cell_type": "code",
   "execution_count": 12,
   "metadata": {},
   "outputs": [],
   "source": [
    "seasons = list(range(2004, 2023))\n",
    "data_url = \"https://www.basketball-reference.com/teams/TOR/{}.html\"\n",
    "#teams = [\"ATL\", \"BOS\", \"BKN\", \"CHA\", ]"
   ]
  },
  {
   "cell_type": "code",
   "execution_count": 13,
   "metadata": {},
   "outputs": [
    {
     "name": "stderr",
     "output_type": "stream",
     "text": [
      "/var/folders/x3/2znzyvg544q8fg1wz_2m7wc80000gn/T/ipykernel_6606/4144818552.py:2: DeprecationWarning: executable_path has been deprecated, please pass in a Service object\n",
      "  driver = webdriver.Chrome(executable_path=\"/Users/caleb/Desktop/github/NBA/chromedriver_mac64\")\n"
     ]
    }
   ],
   "source": [
    "# start the webdriver\n",
    "driver = webdriver.Chrome(executable_path=\"/Users/caleb/Desktop/github/NBA/chromedriver_mac64\")"
   ]
  },
  {
   "cell_type": "code",
   "execution_count": 14,
   "metadata": {},
   "outputs": [],
   "source": [
    "# web scraping season by season\n",
    "\n",
    "for season in seasons:\n",
    "    url = data_url.format(season)\n",
    "\n",
    "    driver.get(url)\n",
    "\n",
    "    page_source = driver.page_source\n",
    "\n",
    "    with open(\"DATA/TOR_{}.html\".format(season), \"w+\") as file:\n",
    "        file.write(page_source)\n"
   ]
  },
  {
   "cell_type": "code",
   "execution_count": null,
   "metadata": {},
   "outputs": [],
   "source": []
  }
 ],
 "metadata": {
  "kernelspec": {
   "display_name": "Python 3.11.3 64-bit",
   "language": "python",
   "name": "python3"
  },
  "language_info": {
   "codemirror_mode": {
    "name": "ipython",
    "version": 3
   },
   "file_extension": ".py",
   "mimetype": "text/x-python",
   "name": "python",
   "nbconvert_exporter": "python",
   "pygments_lexer": "ipython3",
   "version": "3.11.3"
  },
  "orig_nbformat": 4,
  "vscode": {
   "interpreter": {
    "hash": "aee8b7b246df8f9039afb4144a1f6fd8d2ca17a180786b69acc140d282b71a49"
   }
  }
 },
 "nbformat": 4,
 "nbformat_minor": 2
}
