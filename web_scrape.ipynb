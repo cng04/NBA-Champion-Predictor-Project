{
 "cells": [
  {
   "cell_type": "code",
   "execution_count": 18,
   "metadata": {},
   "outputs": [],
   "source": [
    "import os\n",
    "import time\n",
    "from bs4 import BeautifulSoup\n",
    "from selenium import webdriver\n",
    "from selenium.common.exceptions import WebDriverException"
   ]
  },
  {
   "cell_type": "code",
   "execution_count": 19,
   "metadata": {},
   "outputs": [],
   "source": [
    "seasons = list(range(1996, 2023))\n",
    "data_url = \"https://www.basketball-reference.com/teams/{}/{}.html\"\n",
    "teams = [\"ATL\", \"BOS\", \"BKN\", \"CHA\", \"CHO\", \"CHI\", \"CLE\", \"DAL\", \"DEN\", \"DET\", \"GSW\", \"HOU\", \"IND\",\n",
    "         \"LAC\", \"LAL\", \"MEM\", \"VAN\", \"MIA\", \"MIL\", \"MIN\", \"NOP\", \"NOH\", \"NYK\", \"OKC\", \"SEA\", \"ORL\",\n",
    "         \"PHI\", \"PHO\", \"POR\", \"SAC\", \"SAS\", \"TOR\", \"UTA\", \"WAS\", \"WSB\"]"
   ]
  },
  {
   "cell_type": "code",
   "execution_count": 20,
   "metadata": {},
   "outputs": [
    {
     "name": "stderr",
     "output_type": "stream",
     "text": [
      "/var/folders/x3/2znzyvg544q8fg1wz_2m7wc80000gn/T/ipykernel_8906/4144818552.py:2: DeprecationWarning: executable_path has been deprecated, please pass in a Service object\n",
      "  driver = webdriver.Chrome(executable_path=\"/Users/caleb/Desktop/github/NBA/chromedriver_mac64\")\n"
     ]
    }
   ],
   "source": [
    "# start the webdriver\n",
    "driver = webdriver.Chrome(executable_path=\"/Users/caleb/Desktop/github/NBA/chromedriver_mac64\")"
   ]
  },
  {
   "cell_type": "code",
   "execution_count": 21,
   "metadata": {},
   "outputs": [
    {
     "data": {
      "text/plain": [
       "'\\n# web scraping season by season\\n\\nurl = data_url = \"https://www.basketball-reference.com/teams/ATL/{}.html\".format(2022)\\n\\ndriver.get(url)\\n\\npage_source = driver.page_source\\n\\nwith open(\"DATA/ATL_{}.html\".format(2022), \"w+\") as file:\\n    file.write(page_source)\\n'"
      ]
     },
     "execution_count": 21,
     "metadata": {},
     "output_type": "execute_result"
    }
   ],
   "source": [
    "'''\n",
    "# web scraping season by season\n",
    "\n",
    "url = data_url = \"https://www.basketball-reference.com/teams/ATL/{}.html\".format(2022)\n",
    "\n",
    "driver.get(url)\n",
    "\n",
    "page_source = driver.page_source\n",
    "\n",
    "with open(\"DATA/ATL_{}.html\".format(2022), \"w+\") as file:\n",
    "    file.write(page_source)\n",
    "'''\n"
   ]
  },
  {
   "cell_type": "code",
   "execution_count": 22,
   "metadata": {},
   "outputs": [],
   "source": [
    "def scrape_season(team):\n",
    "    for season in seasons:\n",
    "        url = data_url.format(team, season)\n",
    "        try:\n",
    "            driver.get(url)\n",
    "\n",
    "            time.sleep(2)\n",
    "            \n",
    "            page_source = driver.page_source\n",
    "\n",
    "            with open(\"DATA/{}_{}.html\".format(team, season), \"w+\") as file:\n",
    "                file.write(page_source)\n",
    "        except WebDriverException:\n",
    "            continue"
   ]
  },
  {
   "cell_type": "code",
   "execution_count": 23,
   "metadata": {},
   "outputs": [
    {
     "name": "stdout",
     "output_type": "stream",
     "text": [
      "BOS\n",
      "BKN\n"
     ]
    },
    {
     "ename": "KeyboardInterrupt",
     "evalue": "",
     "output_type": "error",
     "traceback": [
      "\u001b[0;31m---------------------------------------------------------------------------\u001b[0m",
      "\u001b[0;31mKeyboardInterrupt\u001b[0m                         Traceback (most recent call last)",
      "Cell \u001b[0;32mIn[23], line 3\u001b[0m\n\u001b[1;32m      1\u001b[0m \u001b[38;5;28;01mfor\u001b[39;00m team \u001b[38;5;129;01min\u001b[39;00m teams[\u001b[38;5;241m1\u001b[39m:]:\n\u001b[1;32m      2\u001b[0m     \u001b[38;5;28mprint\u001b[39m(team)\n\u001b[0;32m----> 3\u001b[0m     \u001b[43mscrape_season\u001b[49m\u001b[43m(\u001b[49m\u001b[43mteam\u001b[49m\u001b[43m)\u001b[49m\n",
      "Cell \u001b[0;32mIn[22], line 7\u001b[0m, in \u001b[0;36mscrape_season\u001b[0;34m(team)\u001b[0m\n\u001b[1;32m      4\u001b[0m \u001b[38;5;28;01mtry\u001b[39;00m:\n\u001b[1;32m      5\u001b[0m     driver\u001b[38;5;241m.\u001b[39mget(url)\n\u001b[0;32m----> 7\u001b[0m     time\u001b[38;5;241m.\u001b[39msleep(\u001b[38;5;241m2\u001b[39m)\n\u001b[1;32m      9\u001b[0m     page_source \u001b[38;5;241m=\u001b[39m driver\u001b[38;5;241m.\u001b[39mpage_source\n\u001b[1;32m     11\u001b[0m     \u001b[38;5;28;01mwith\u001b[39;00m \u001b[38;5;28mopen\u001b[39m(\u001b[38;5;124m\"\u001b[39m\u001b[38;5;124mDATA/\u001b[39m\u001b[38;5;132;01m{}\u001b[39;00m\u001b[38;5;124m_\u001b[39m\u001b[38;5;132;01m{}\u001b[39;00m\u001b[38;5;124m.html\u001b[39m\u001b[38;5;124m\"\u001b[39m\u001b[38;5;241m.\u001b[39mformat(team, season), \u001b[38;5;124m\"\u001b[39m\u001b[38;5;124mw+\u001b[39m\u001b[38;5;124m\"\u001b[39m) \u001b[38;5;28;01mas\u001b[39;00m file:\n",
      "\u001b[0;31mKeyboardInterrupt\u001b[0m: "
     ]
    }
   ],
   "source": [
    "for team in teams[1:]:\n",
    "    print(team)\n",
    "    scrape_season(team)"
   ]
  },
  {
   "cell_type": "code",
   "execution_count": null,
   "metadata": {},
   "outputs": [],
   "source": []
  }
 ],
 "metadata": {
  "kernelspec": {
   "display_name": "Python 3.11.3 64-bit",
   "language": "python",
   "name": "python3"
  },
  "language_info": {
   "codemirror_mode": {
    "name": "ipython",
    "version": 3
   },
   "file_extension": ".py",
   "mimetype": "text/x-python",
   "name": "python",
   "nbconvert_exporter": "python",
   "pygments_lexer": "ipython3",
   "version": "3.11.3"
  },
  "orig_nbformat": 4,
  "vscode": {
   "interpreter": {
    "hash": "aee8b7b246df8f9039afb4144a1f6fd8d2ca17a180786b69acc140d282b71a49"
   }
  }
 },
 "nbformat": 4,
 "nbformat_minor": 2
}
